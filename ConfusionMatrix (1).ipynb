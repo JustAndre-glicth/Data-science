{
  "nbformat": 4,
  "nbformat_minor": 0,
  "metadata": {
    "colab": {
      "name": "ConfusionMatrix.ipynb",
      "provenance": [],
      "collapsed_sections": []
    },
    "kernelspec": {
      "name": "python3",
      "display_name": "Python 3"
    }
  },
  "cells": [
    {
      "cell_type": "code",
      "metadata": {
        "id": "h-uIGwHopUKW"
      },
      "source": [
        "# import libraries\r\n",
        "import matplotlib.pyplot as plt\r\n",
        "import seaborn as sns\r\n",
        "import numpy as np"
      ],
      "execution_count": null,
      "outputs": []
    },
    {
      "cell_type": "code",
      "metadata": {
        "colab": {
          "base_uri": "https://localhost:8080/"
        },
        "id": "m1Yrg1XNpVIj",
        "outputId": "c5201cf2-1735-4e52-a50b-933fa2a78699"
      },
      "source": [
        "cm = np.array([[87, 16], [17, 59]])\r\n",
        "cm"
      ],
      "execution_count": null,
      "outputs": [
        {
          "output_type": "execute_result",
          "data": {
            "text/plain": [
              "array([[87, 16],\n",
              "       [17, 59]])"
            ]
          },
          "metadata": {
            "tags": []
          },
          "execution_count": 51
        }
      ]
    },
    {
      "cell_type": "code",
      "metadata": {
        "colab": {
          "base_uri": "https://localhost:8080/",
          "height": 574
        },
        "id": "XnhOP9lLpazL",
        "outputId": "26e6424d-b5bb-4382-a647-d95e94c70ac4"
      },
      "source": [
        "score = (87 + 59) / (87 + 59 + 17 + 16)\r\n",
        "plt.figure(figsize=(10,10))\r\n",
        "sns.heatmap(cm, annot=True,\r\n",
        "            fmt=\".0f\",\r\n",
        "            linewidths=.5,\r\n",
        "            square = True,\r\n",
        "            cmap = 'Blues');\r\n",
        "plt.ylabel('Actual label', fontsize = 17);\r\n",
        "plt.xlabel('Predicted label', fontsize = 17);\r\n",
        "plt.title('what am I doing?');\r\n",
        "plt.tick_params(labelsize= 15)"
      ],
      "execution_count": null,
      "outputs": [
        {
          "output_type": "display_data",
          "data": {
            "image/png": "[encoded data removed]",
            "text/plain": [
              "<Figure size 720x720 with 2 Axes>"
            ]
          },
          "metadata": {
            "tags": [],
            "needs_background": "light"
          }
        }
      ]
    }
  ]
}