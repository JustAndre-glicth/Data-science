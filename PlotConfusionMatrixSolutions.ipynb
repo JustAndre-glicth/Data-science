{
  "nbformat": 4,
  "nbformat_minor": 0,
  "metadata": {
    "anaconda-cloud": {},
    "celltoolbar": "Slideshow",
    "kernelspec": {
      "display_name": "Python 3",
      "language": "python",
      "name": "python3"
    },
    "language_info": {
      "codemirror_mode": {
        "name": "ipython",
        "version": 3
      },
      "file_extension": ".py",
      "mimetype": "text/x-python",
      "name": "python",
      "nbconvert_exporter": "python",
      "pygments_lexer": "ipython3",
      "version": "3.7.6"
    },
    "colab": {
      "name": "PlotConfusionMatrixSolutions.ipynb",
      "provenance": [],
      "collapsed_sections": []
    }
  },
  "cells": [
    {
      "cell_type": "markdown",
      "metadata": {
        "id": "38idX8Wk_xBV"
      },
      "source": [
        "<center>\n",
        "<img src=\"https://course_report_production.s3.amazonaws.com/rich/rich_files/rich_files/2470/s300/cd-logo-blue-600x600.png\" alt=\"Coding Dojo Logo\" class=\"center\" height=\"50\">\n",
        "\n",
        "# Plotting Confusion Matrix - Solutions\n",
        "    \n",
        "</center>"
      ]
    },
    {
      "cell_type": "code",
      "metadata": {
        "id": "ns1Jr_uPmyaf"
      },
      "source": [
        "# import libraries\n",
        "import matplotlib.pyplot as plt\n",
        "import seaborn as sns\n",
        "import numpy as np"
      ],
      "execution_count": null,
      "outputs": []
    },
    {
      "cell_type": "code",
      "metadata": {
        "colab": {
          "base_uri": "https://localhost:8080/"
        },
        "id": "r2mgKK_je369",
        "outputId": "51cd88ea-245c-4b62-9266-b81c7fb489dd"
      },
      "source": [
        "# save the confusion matrix as an array\n",
        "cm = np.array([[87, 16], [17, 59]])\n",
        "cm"
      ],
      "execution_count": null,
      "outputs": [
        {
          "output_type": "execute_result",
          "data": {
            "text/plain": [
              "array([[87, 16],\n",
              "       [17, 59]])"
            ]
          },
          "metadata": {
            "tags": []
          },
          "execution_count": 5
        }
      ]
    },
    {
      "cell_type": "code",
      "metadata": {
        "id": "b5_nKsFejihp",
        "colab": {
          "base_uri": "https://localhost:8080/",
          "height": 520
        },
        "outputId": "b3a75e76-ce1b-4966-a635-395d429f76c5"
      },
      "source": [
        "# save accuracy score\n",
        "score = (87 + 59) / (87 + 59 + 17 + 16)\n",
        "\n",
        "# Plot heatmap of confusion matrix using only matplotlib & seaborn\n",
        "plt.figure(figsize=(9,9))\n",
        "sns.heatmap(cm, annot=True,\n",
        "            fmt=\".0f\",\n",
        "            linewidths=.5,\n",
        "            square = True,\n",
        "            cmap = 'Blues');\n",
        "plt.ylabel('Actual label', fontsize = 17);\n",
        "plt.xlabel('Predicted label', fontsize = 17);\n",
        "plt.title('Accuracy Score: {}'.format(score), size = 17);\n",
        "plt.tick_params(labelsize= 15)"
      ],
      "execution_count": null,
      "outputs": [
        {
          "output_type": "display_data",
          "data": {
            "image/png": "[encoded data removed]",
            "text/plain": [
              "<Figure size 648x648 with 2 Axes>"
            ]
          },
          "metadata": {
            "tags": [],
            "needs_background": "light"
          }
        }
      ]
    },
    {
      "cell_type": "code",
      "metadata": {
        "id": "-wKtvKEXvpbq"
      },
      "source": [
        ""
      ],
      "execution_count": null,
      "outputs": []
    }
  ]
}