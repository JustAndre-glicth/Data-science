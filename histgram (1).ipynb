{
  "nbformat": 4,
  "nbformat_minor": 0,
  "metadata": {
    "colab": {
      "name": "histgram.ipynb",
      "provenance": [],
      "collapsed_sections": []
    },
    "kernelspec": {
      "name": "python3",
      "display_name": "Python 3"
    }
  },
  "cells": [
    {
      "cell_type": "code",
      "metadata": {
        "colab": {
          "base_uri": "https://localhost:8080/"
        },
        "id": "XPWGiqjG22nP",
        "outputId": "b51d9d17-e7ba-464c-ab4a-0c4412773931"
      },
      "source": [
        "from google.colab import drive\r\n",
        "drive.mount('/content/drive')"
      ],
      "execution_count": null,
      "outputs": [
        {
          "output_type": "stream",
          "text": [
            "Mounted at /content/drive\n"
          ],
          "name": "stdout"
        }
      ]
    },
    {
      "cell_type": "code",
      "metadata": {
        "id": "2jy0yakF3NlK"
      },
      "source": [
        "import matplotlib.pyplot as plt\r\n",
        "import seaborn as sns\r\n",
        "import pandas as pd\r\n",
        "import numpy as np"
      ],
      "execution_count": null,
      "outputs": []
    },
    {
      "cell_type": "code",
      "metadata": {
        "colab": {
          "base_uri": "https://localhost:8080/",
          "height": 410
        },
        "id": "lVmKNtxZ3O6W",
        "outputId": "cc292f2a-a833-495f-b453-86e9ae5301cf"
      },
      "source": [
        "filename = '/content/drive/MyDrive/PTDataScience/PandasForDataManipulation/catsvdogs.xlsx'\r\n",
        "df = pd.read_excel(filename)\r\n",
        "df.head(10)"
      ],
      "execution_count": null,
      "outputs": [
        {
          "output_type": "execute_result",
          "data": {
            "text/html": [
              "<div>\n",
              "<style scoped>\n",
              "    .dataframe tbody tr th:only-of-type {\n",
              "        vertical-align: middle;\n",
              "    }\n",
              "\n",
              "    .dataframe tbody tr th {\n",
              "        vertical-align: top;\n",
              "    }\n",
              "\n",
              "    .dataframe thead th {\n",
              "        text-align: right;\n",
              "    }\n",
              "</style>\n",
              "<table border=\"1\" class=\"dataframe\">\n",
              "  <thead>\n",
              "    <tr style=\"text-align: right;\">\n",
              "      <th></th>\n",
              "      <th>Location</th>\n",
              "      <th>Number of Households (in 1000)</th>\n",
              "      <th>Percentage of households with pets</th>\n",
              "      <th>Number of Pet Households (in 1000)</th>\n",
              "      <th>Percentage of Dog Owners</th>\n",
              "      <th>Dog Owning Households (1000s)</th>\n",
              "      <th>Mean Number of Dogs per household</th>\n",
              "      <th>Dog Population (in 1000)</th>\n",
              "      <th>Percentage of Cat Owners</th>\n",
              "      <th>Cat Owning Households</th>\n",
              "      <th>Mean Number of Cats</th>\n",
              "      <th>Cat Population</th>\n",
              "    </tr>\n",
              "  </thead>\n",
              "  <tbody>\n",
              "    <tr>\n",
              "      <th>0</th>\n",
              "      <td>Alabama</td>\n",
              "      <td>1828</td>\n",
              "      <td>59.5</td>\n",
              "      <td>1088</td>\n",
              "      <td>44.1</td>\n",
              "      <td>807</td>\n",
              "      <td>1.7</td>\n",
              "      <td>1410</td>\n",
              "      <td>27.4</td>\n",
              "      <td>501</td>\n",
              "      <td>2.5</td>\n",
              "      <td>1252</td>\n",
              "    </tr>\n",
              "    <tr>\n",
              "      <th>1</th>\n",
              "      <td>Arizona</td>\n",
              "      <td>2515</td>\n",
              "      <td>59.5</td>\n",
              "      <td>1497</td>\n",
              "      <td>40.1</td>\n",
              "      <td>1008</td>\n",
              "      <td>1.8</td>\n",
              "      <td>1798</td>\n",
              "      <td>29.6</td>\n",
              "      <td>743</td>\n",
              "      <td>1.9</td>\n",
              "      <td>1438</td>\n",
              "    </tr>\n",
              "    <tr>\n",
              "      <th>2</th>\n",
              "      <td>Arkansas</td>\n",
              "      <td>1148</td>\n",
              "      <td>62.4</td>\n",
              "      <td>716</td>\n",
              "      <td>47.9</td>\n",
              "      <td>550</td>\n",
              "      <td>2.0</td>\n",
              "      <td>1097</td>\n",
              "      <td>30.6</td>\n",
              "      <td>351</td>\n",
              "      <td>2.3</td>\n",
              "      <td>810</td>\n",
              "    </tr>\n",
              "    <tr>\n",
              "      <th>3</th>\n",
              "      <td>California</td>\n",
              "      <td>12974</td>\n",
              "      <td>52.9</td>\n",
              "      <td>6865</td>\n",
              "      <td>32.8</td>\n",
              "      <td>4260</td>\n",
              "      <td>1.6</td>\n",
              "      <td>6687</td>\n",
              "      <td>28.3</td>\n",
              "      <td>3687</td>\n",
              "      <td>1.9</td>\n",
              "      <td>7118</td>\n",
              "    </tr>\n",
              "    <tr>\n",
              "      <th>4</th>\n",
              "      <td>Colorado</td>\n",
              "      <td>1986</td>\n",
              "      <td>61.3</td>\n",
              "      <td>1217</td>\n",
              "      <td>42.5</td>\n",
              "      <td>845</td>\n",
              "      <td>1.6</td>\n",
              "      <td>1349</td>\n",
              "      <td>32.3</td>\n",
              "      <td>642</td>\n",
              "      <td>1.9</td>\n",
              "      <td>1191</td>\n",
              "    </tr>\n",
              "    <tr>\n",
              "      <th>5</th>\n",
              "      <td>Connecticut</td>\n",
              "      <td>1337</td>\n",
              "      <td>54.4</td>\n",
              "      <td>728</td>\n",
              "      <td>28.3</td>\n",
              "      <td>379</td>\n",
              "      <td>1.3</td>\n",
              "      <td>507</td>\n",
              "      <td>31.9</td>\n",
              "      <td>427</td>\n",
              "      <td>1.9</td>\n",
              "      <td>796</td>\n",
              "    </tr>\n",
              "    <tr>\n",
              "      <th>6</th>\n",
              "      <td>Delaware</td>\n",
              "      <td>334</td>\n",
              "      <td>56.6</td>\n",
              "      <td>189</td>\n",
              "      <td>33.7</td>\n",
              "      <td>113</td>\n",
              "      <td>1.4</td>\n",
              "      <td>163</td>\n",
              "      <td>33.7</td>\n",
              "      <td>113</td>\n",
              "      <td>1.7</td>\n",
              "      <td>187</td>\n",
              "    </tr>\n",
              "    <tr>\n",
              "      <th>7</th>\n",
              "      <td>District of Columbia</td>\n",
              "      <td>287</td>\n",
              "      <td>21.9</td>\n",
              "      <td>63</td>\n",
              "      <td>13.1</td>\n",
              "      <td>38</td>\n",
              "      <td>1.1</td>\n",
              "      <td>42</td>\n",
              "      <td>11.6</td>\n",
              "      <td>33</td>\n",
              "      <td>1.9</td>\n",
              "      <td>63</td>\n",
              "    </tr>\n",
              "    <tr>\n",
              "      <th>8</th>\n",
              "      <td>Florida</td>\n",
              "      <td>7609</td>\n",
              "      <td>54.4</td>\n",
              "      <td>4138</td>\n",
              "      <td>35.7</td>\n",
              "      <td>2718</td>\n",
              "      <td>1.5</td>\n",
              "      <td>4210</td>\n",
              "      <td>27.3</td>\n",
              "      <td>2079</td>\n",
              "      <td>2.1</td>\n",
              "      <td>4375</td>\n",
              "    </tr>\n",
              "    <tr>\n",
              "      <th>9</th>\n",
              "      <td>Georgia</td>\n",
              "      <td>3798</td>\n",
              "      <td>55.1</td>\n",
              "      <td>2093</td>\n",
              "      <td>40.1</td>\n",
              "      <td>1522</td>\n",
              "      <td>1.6</td>\n",
              "      <td>2479</td>\n",
              "      <td>27.3</td>\n",
              "      <td>1037</td>\n",
              "      <td>2.1</td>\n",
              "      <td>2162</td>\n",
              "    </tr>\n",
              "  </tbody>\n",
              "</table>\n",
              "</div>"
            ],
            "text/plain": [
              "               Location  ...  Cat Population\n",
              "0               Alabama  ...            1252\n",
              "1               Arizona  ...            1438\n",
              "2              Arkansas  ...             810\n",
              "3            California  ...            7118\n",
              "4              Colorado  ...            1191\n",
              "5           Connecticut  ...             796\n",
              "6              Delaware  ...             187\n",
              "7  District of Columbia  ...              63\n",
              "8               Florida  ...            4375\n",
              "9               Georgia  ...            2162\n",
              "\n",
              "[10 rows x 12 columns]"
            ]
          },
          "metadata": {
            "tags": []
          },
          "execution_count": 62
        }
      ]
    },
    {
      "cell_type": "markdown",
      "metadata": {
        "id": "TAnziFmZ3yO0"
      },
      "source": [
        "# Creating a histgram"
      ]
    },
    {
      "cell_type": "code",
      "metadata": {
        "colab": {
          "base_uri": "https://localhost:8080/"
        },
        "id": "TfYzMYD-3r7_",
        "outputId": "54d27177-8968-49be-b13d-a8cda2c17e31"
      },
      "source": [
        "df['Percentage of Dog Owners'].head()"
      ],
      "execution_count": null,
      "outputs": [
        {
          "output_type": "execute_result",
          "data": {
            "text/plain": [
              "0    44.1\n",
              "1    40.1\n",
              "2    47.9\n",
              "3    32.8\n",
              "4    42.5\n",
              "Name: Percentage of Dog Owners, dtype: float64"
            ]
          },
          "metadata": {
            "tags": []
          },
          "execution_count": 17
        }
      ]
    },
    {
      "cell_type": "markdown",
      "metadata": {
        "id": "uY-BbEVFEkHF"
      },
      "source": [
        "#  DOGS"
      ]
    },
    {
      "cell_type": "code",
      "metadata": {
        "colab": {
          "base_uri": "https://localhost:8080/",
          "height": 351
        },
        "id": "qvOqcBmg4XgZ",
        "outputId": "5c546735-811f-40ee-f4a5-2d289edf292a"
      },
      "source": [
        "plt.style.use('seaborn')\r\n",
        "dog_filter = df.loc[:, 'Percentage of Dog Owners'] <= 50\r\n",
        "df.loc[dog_filter,'Percentage of Dog Owners'].hist(bins = 20,\r\n",
        "                                         edgecolor='black');\r\n",
        "plt.xticks(rotation = 25)\r\n",
        "plt.ticklabel_format(useOffset=False, style='plain')"
      ],
      "execution_count": null,
      "outputs": [
        {
          "output_type": "display_data",
          "data": {
            "image/png": "[encoded data removed]",
            "text/plain": [
              "<Figure size 576x396 with 1 Axes>"
            ]
          },
          "metadata": {
            "tags": []
          }
        }
      ]
    },
    {
      "cell_type": "markdown",
      "metadata": {
        "id": "Ypw8ujHtErJe"
      },
      "source": [
        "# CATS"
      ]
    },
    {
      "cell_type": "code",
      "metadata": {
        "colab": {
          "base_uri": "https://localhost:8080/"
        },
        "id": "6X7c0Vqz7ivi",
        "outputId": "8f487a03-70da-44ce-80fa-0ffd2e0c6b8a"
      },
      "source": [
        "df['Percentage of Cat Owners'].head()"
      ],
      "execution_count": null,
      "outputs": [
        {
          "output_type": "execute_result",
          "data": {
            "text/plain": [
              "0    27.4\n",
              "1    29.6\n",
              "2    30.6\n",
              "3    28.3\n",
              "4    32.3\n",
              "Name: Percentage of Cat Owners, dtype: float64"
            ]
          },
          "metadata": {
            "tags": []
          },
          "execution_count": 25
        }
      ]
    },
    {
      "cell_type": "code",
      "metadata": {
        "colab": {
          "base_uri": "https://localhost:8080/",
          "height": 351
        },
        "id": "RpMDbTmzEMLJ",
        "outputId": "0d573c59-fd5f-4e63-ebee-e2996f2eb5ed"
      },
      "source": [
        "plt.style.use('seaborn')\r\n",
        "cat_filter = df.loc[:, 'Percentage of Cat Owners'] <= 50\r\n",
        "df.loc[dog_filter,'Percentage of Cat Owners'].hist(bins = 20,\r\n",
        "                                         edgecolor='black');\r\n",
        "plt.xticks(rotation = 25)\r\n",
        "plt.ticklabel_format(useOffset=False, style='plain')"
      ],
      "execution_count": null,
      "outputs": [
        {
          "output_type": "display_data",
          "data": {
            "image/png": "[encoded data removed]",
            "text/plain": [
              "<Figure size 576x396 with 1 Axes>"
            ]
          },
          "metadata": {
            "tags": []
          }
        }
      ]
    },
    {
      "cell_type": "markdown",
      "metadata": {
        "id": "Yc8WrQy3EVRq"
      },
      "source": [
        "# Combined Graphs Dog vs Cats\r\n",
        "Ps. Dogs are better"
      ]
    },
    {
      "cell_type": "code",
      "metadata": {
        "colab": {
          "base_uri": "https://localhost:8080/",
          "height": 380
        },
        "id": "rpxScDiE7yZi",
        "outputId": "ec18d456-31cc-41f4-c511-7a6ab5b9a35d"
      },
      "source": [
        "plt.style.use('seaborn')\r\n",
        "cat_filter = df.loc[:, 'Percentage of Cat Owners'] <= 50\r\n",
        "df.loc[cat_filter,'Percentage of Cat Owners'].hist(bins = 20,\r\n",
        "                                         edgecolor='black', label='Cat', alpha = 1);\r\n",
        "dog_filter = df.loc[:, 'Percentage of Dog Owners'] <= 50\r\n",
        "df.loc[dog_filter,'Percentage of Dog Owners'].hist(bins = 20,\r\n",
        "                                         edgecolor='black', label='Dog', alpha = 0.8, color = 'red');\r\n",
        "plt.xticks(rotation = 25)\r\n",
        "plt.xlabel('Percentages')\r\n",
        "plt.ylabel('States')\r\n",
        "plt.title('Dogs Vs Cats')\r\n",
        "plt.legend()\r\n",
        "plt.ticklabel_format(useOffset=False, style='plain')"
      ],
      "execution_count": null,
      "outputs": [
        {
          "output_type": "display_data",
          "data": {
            "image/png": "[encoded data removed]",
            "text/plain": [
              "<Figure size 576x396 with 1 Axes>"
            ]
          },
          "metadata": {
            "tags": []
          }
        }
      ]
    },
    {
      "cell_type": "markdown",
      "metadata": {
        "id": "MHhCQQN0Ig_I"
      },
      "source": [
        "# 3a. What can we see by comparing these two histograms? What information does this tell us?\r\n",
        "\r\n",
        "*Answer : Dogs are better!*"
      ]
    },
    {
      "cell_type": "code",
      "metadata": {
        "colab": {
          "base_uri": "https://localhost:8080/",
          "height": 238
        },
        "id": "7tmNbjU5ch4e",
        "outputId": "8bec9f68-1905-4354-a473-d73437783bdf"
      },
      "source": [
        "df.head(5)"
      ],
      "execution_count": null,
      "outputs": [
        {
          "output_type": "execute_result",
          "data": {
            "text/html": [
              "<div>\n",
              "<style scoped>\n",
              "    .dataframe tbody tr th:only-of-type {\n",
              "        vertical-align: middle;\n",
              "    }\n",
              "\n",
              "    .dataframe tbody tr th {\n",
              "        vertical-align: top;\n",
              "    }\n",
              "\n",
              "    .dataframe thead th {\n",
              "        text-align: right;\n",
              "    }\n",
              "</style>\n",
              "<table border=\"1\" class=\"dataframe\">\n",
              "  <thead>\n",
              "    <tr style=\"text-align: right;\">\n",
              "      <th></th>\n",
              "      <th>Location</th>\n",
              "      <th>Number of Households (in 1000)</th>\n",
              "      <th>Percentage of households with pets</th>\n",
              "      <th>Number of Pet Households (in 1000)</th>\n",
              "      <th>Percentage of Dog Owners</th>\n",
              "      <th>Dog Owning Households (1000s)</th>\n",
              "      <th>Mean Number of Dogs per household</th>\n",
              "      <th>Dog Population (in 1000)</th>\n",
              "      <th>Percentage of Cat Owners</th>\n",
              "      <th>Cat Owning Households</th>\n",
              "      <th>Mean Number of Cats</th>\n",
              "      <th>Cat Population</th>\n",
              "    </tr>\n",
              "  </thead>\n",
              "  <tbody>\n",
              "    <tr>\n",
              "      <th>0</th>\n",
              "      <td>Alabama</td>\n",
              "      <td>1828</td>\n",
              "      <td>59.5</td>\n",
              "      <td>1088</td>\n",
              "      <td>44.1</td>\n",
              "      <td>807</td>\n",
              "      <td>1.7</td>\n",
              "      <td>1410</td>\n",
              "      <td>27.4</td>\n",
              "      <td>501</td>\n",
              "      <td>2.5</td>\n",
              "      <td>1252</td>\n",
              "    </tr>\n",
              "    <tr>\n",
              "      <th>1</th>\n",
              "      <td>Arizona</td>\n",
              "      <td>2515</td>\n",
              "      <td>59.5</td>\n",
              "      <td>1497</td>\n",
              "      <td>40.1</td>\n",
              "      <td>1008</td>\n",
              "      <td>1.8</td>\n",
              "      <td>1798</td>\n",
              "      <td>29.6</td>\n",
              "      <td>743</td>\n",
              "      <td>1.9</td>\n",
              "      <td>1438</td>\n",
              "    </tr>\n",
              "    <tr>\n",
              "      <th>2</th>\n",
              "      <td>Arkansas</td>\n",
              "      <td>1148</td>\n",
              "      <td>62.4</td>\n",
              "      <td>716</td>\n",
              "      <td>47.9</td>\n",
              "      <td>550</td>\n",
              "      <td>2.0</td>\n",
              "      <td>1097</td>\n",
              "      <td>30.6</td>\n",
              "      <td>351</td>\n",
              "      <td>2.3</td>\n",
              "      <td>810</td>\n",
              "    </tr>\n",
              "    <tr>\n",
              "      <th>3</th>\n",
              "      <td>California</td>\n",
              "      <td>12974</td>\n",
              "      <td>52.9</td>\n",
              "      <td>6865</td>\n",
              "      <td>32.8</td>\n",
              "      <td>4260</td>\n",
              "      <td>1.6</td>\n",
              "      <td>6687</td>\n",
              "      <td>28.3</td>\n",
              "      <td>3687</td>\n",
              "      <td>1.9</td>\n",
              "      <td>7118</td>\n",
              "    </tr>\n",
              "    <tr>\n",
              "      <th>4</th>\n",
              "      <td>Colorado</td>\n",
              "      <td>1986</td>\n",
              "      <td>61.3</td>\n",
              "      <td>1217</td>\n",
              "      <td>42.5</td>\n",
              "      <td>845</td>\n",
              "      <td>1.6</td>\n",
              "      <td>1349</td>\n",
              "      <td>32.3</td>\n",
              "      <td>642</td>\n",
              "      <td>1.9</td>\n",
              "      <td>1191</td>\n",
              "    </tr>\n",
              "  </tbody>\n",
              "</table>\n",
              "</div>"
            ],
            "text/plain": [
              "     Location  ...  Cat Population\n",
              "0     Alabama  ...            1252\n",
              "1     Arizona  ...            1438\n",
              "2    Arkansas  ...             810\n",
              "3  California  ...            7118\n",
              "4    Colorado  ...            1191\n",
              "\n",
              "[5 rows x 12 columns]"
            ]
          },
          "metadata": {
            "tags": []
          },
          "execution_count": 90
        }
      ]
    },
    {
      "cell_type": "code",
      "metadata": {
        "colab": {
          "base_uri": "https://localhost:8080/",
          "height": 352
        },
        "id": "ILD7cHLlfOvR",
        "outputId": "cfa0a467-45d8-4e24-d67c-df1c089cf7de"
      },
      "source": [
        "fig, axes = plt.subplots(nrows = 1, ncols = 1);\r\n",
        "boxplots = axes.boxplot([df['Mean Number of Cats'],df['Mean Number of Dogs per household']],\r\n",
        "           labels=['Cats', 'Dogs'],\r\n",
        "           widths = .7,\r\n",
        "           patch_artist= True,\r\n",
        "           medianprops = dict(linestyle='-', linewidth=2, color='white'),\r\n",
        "           boxprops = dict(linewidth=3, color='Black', facecolor = 'red', alpha = .8)\r\n",
        "          );\r\n",
        "boxplot1 = boxplots['boxes'][0];\r\n",
        "boxplot1.set_facecolor('blue');\r\n",
        "plt.ylabel('Animals per State', fontsize = 20);\r\n",
        "plt.xticks(fontsize = 16);\r\n",
        "plt.yticks(fontsize = 16);"
      ],
      "execution_count": null,
      "outputs": [
        {
          "output_type": "display_data",
          "data": {
            "image/png": "[encoded data removed]",
            "text/plain": [
              "<Figure size 576x396 with 1 Axes>"
            ]
          },
          "metadata": {
            "tags": []
          }
        }
      ]
    }
  ]
}